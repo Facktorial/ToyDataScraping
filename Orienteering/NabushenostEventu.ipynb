{
  "nbformat": 4,
  "nbformat_minor": 0,
  "metadata": {
    "colab": {
      "provenance": [],
      "authorship_tag": "ABX9TyM/qyA2vgf8FBvzDoLs6Vbi",
      "include_colab_link": true
    },
    "kernelspec": {
      "name": "python3",
      "display_name": "Python 3"
    },
    "language_info": {
      "name": "python"
    }
  },
  "cells": [
    {
      "cell_type": "markdown",
      "metadata": {
        "id": "view-in-github",
        "colab_type": "text"
      },
      "source": [
        "<a href=\"https://colab.research.google.com/github/Facktorial/ToyDataScraping/blob/main/Orienteering/NabushenostEventu.ipynb\" target=\"_parent\"><img src=\"https://colab.research.google.com/assets/colab-badge.svg\" alt=\"Open In Colab\"/></a>"
      ]
    },
    {
      "cell_type": "code",
      "execution_count": 9,
      "metadata": {
        "id": "UWYUnfjvevcg"
      },
      "outputs": [],
      "source": [
        "import requests\n",
        "import pandas as pd\n",
        "import io"
      ]
    },
    {
      "cell_type": "code",
      "source": [
        "from enum import Enum\n",
        "\n",
        "class RaceClass(Enum):\n",
        "  H = \"H\"\n",
        "  D = \"D\"\n",
        "  H_OTHER = \"H_OTHER\"\n",
        "  D_OTHER = \"D_OTHER\"\n",
        "  OTHER = \"\"\n",
        "\n",
        "def class_2_gender(r: RaceClass) -> str:\n",
        "  return \"M\" if r.value[0] == \"H\" else \"F\" if r.value[0] == \"D\" else \"\"\n",
        "\n",
        "def get_gender_akademicky(s: str) -> RaceClass:\n",
        "  if RaceClass.H.value == s:\n",
        "    return RaceClass.H\n",
        "  elif RaceClass.D.value == s:\n",
        "    return RaceClass.D\n",
        "  elif \"H\" in s:\n",
        "    return RaceClass.H_OTHER\n",
        "  elif \"D\" in s:\n",
        "    return RaceClass.D_OTHER\n",
        "  return RaceClass.OTHER"
      ],
      "metadata": {
        "id": "4YHinj4l5hFs"
      },
      "execution_count": 141,
      "outputs": []
    },
    {
      "cell_type": "code",
      "source": [
        "# getEventStartLists"
      ],
      "metadata": {
        "id": "FYHTkP3cmRRc"
      },
      "execution_count": 43,
      "outputs": []
    },
    {
      "cell_type": "code",
      "source": [
        "def get_csos_club_list():\n",
        "    url = \"https://oris.orientacnisporty.cz/API/\"\n",
        "    params = {\n",
        "        'format': 'json',\n",
        "        'method': 'getCSOSClubList'\n",
        "    }\n",
        "    response = requests.get(url, params=params)\n",
        "    response.raise_for_status()  # Check if the request was successful\n",
        "    return response.json()"
      ],
      "metadata": {
        "id": "0qNukCQKe1OM"
      },
      "execution_count": 2,
      "outputs": []
    },
    {
      "cell_type": "code",
      "source": [
        "# Function to download the CSV file of Ranking and load it into a pandas DataFrame\n",
        "def download_and_load_csv(gender: str, date: str) -> pd.DataFrame:\n",
        "    url = \"https://oris.orientacnisporty.cz/ranking_export\"\n",
        "    params = {\n",
        "        'date': date,\n",
        "        'sport': '1',\n",
        "        'gender': gender,\n",
        "        'csv': '1'\n",
        "    }\n",
        "    response = requests.get(url, params=params)\n",
        "    response.raise_for_status()  # Check if the request was successful\n",
        "\n",
        "    # Load the CSV data into a pandas DataFrame\n",
        "    csv_data = response.content.decode('utf-8')\n",
        "    df = pd.read_csv(io.StringIO(csv_data), sep=\";\")\n",
        "    return df"
      ],
      "metadata": {
        "id": "f3jwoDm3e428"
      },
      "execution_count": 157,
      "outputs": []
    },
    {
      "cell_type": "code",
      "source": [
        "# Download and load the CSV file\n",
        "ranking_dfs = {}\n",
        "ranking_dfs[\"M\"] = [download_and_load_csv(\"M\", '2024-05-31'), download_and_load_csv(\"M\", '2024-03-31')]\n",
        "ranking_dfs[\"F\"] = [download_and_load_csv(\"F\", '2024-05-31'), download_and_load_csv(\"F\", '2024-03-31')]\n",
        "print(\"Ranking Data:\")\n",
        "_ = [print(x.describe()) for x in ranking_dfs[\"M\"]]\n",
        "_ = [print(x.describe()) for x in ranking_dfs[\"F\"]]"
      ],
      "metadata": {
        "colab": {
          "base_uri": "https://localhost:8080/"
        },
        "id": "7vdl7-OXfC4M",
        "outputId": "c2a195d3-2223-410e-970c-917d82c860f0"
      },
      "execution_count": 159,
      "outputs": [
        {
          "output_type": "stream",
          "name": "stdout",
          "text": [
            "Ranking Data:\n",
            "            Poradi          Body        Rank.c   Minule Ran\n",
            "count  1293.000000   1293.000000   1293.000000  1293.000000\n",
            "mean    645.800464  26974.600928   3241.496520   616.019335\n",
            "std     371.444368  23074.497964   2772.804644   380.289796\n",
            "min       1.000000      0.000000      0.000000     0.000000\n",
            "25%     324.000000   5540.000000    666.000000   286.000000\n",
            "50%     647.000000  20744.000000   2493.000000   609.000000\n",
            "75%     970.000000  47450.000000   5702.000000   947.000000\n",
            "max    1238.000000  83217.000000  10000.000000  1242.000000\n",
            "            Poradi          Body        Rank.c   Minule Ran\n",
            "count  1267.000000   1267.000000   1267.000000  1267.000000\n",
            "mean    633.169692  26868.119179   3199.081294   551.380426\n",
            "std     364.537934  22874.767088   2723.605813   367.664606\n",
            "min       1.000000      0.000000      0.000000     0.000000\n",
            "25%     317.500000   5619.000000    669.000000   225.500000\n",
            "50%     634.000000  20669.000000   2461.000000   545.000000\n",
            "75%     950.500000  47540.500000   5660.500000   869.500000\n",
            "max    1222.000000  83987.000000  10000.000000  1163.000000\n",
            "           Poradi          Body        Rank.c  Minule Ran\n",
            "count  924.000000    924.000000    924.000000  924.000000\n",
            "mean   461.850649  25439.136364   3053.147186  436.099567\n",
            "std    265.814159  22928.797769   2751.874184  268.500985\n",
            "min      1.000000      0.000000      0.000000    0.000000\n",
            "25%    231.750000   5098.250000    612.000000  202.750000\n",
            "50%    462.500000  17948.500000   2154.000000  434.500000\n",
            "75%    693.250000  44584.250000   5350.750000  667.250000\n",
            "max    890.000000  83321.000000  10000.000000  876.000000\n",
            "           Poradi          Body        Rank.c  Minule Ran\n",
            "count  881.000000    881.000000    881.000000  881.000000\n",
            "mean   440.535755  25332.668558   3110.031782  371.036322\n",
            "std    253.697957  22601.199985   2774.731467  257.910720\n",
            "min      1.000000      0.000000      0.000000    0.000000\n",
            "25%    221.000000   5344.000000    656.000000  140.000000\n",
            "50%    441.000000  17749.000000   2179.000000  361.000000\n",
            "75%    661.000000  43308.000000   5317.000000  592.000000\n",
            "max    853.000000  81454.000000  10000.000000  810.000000\n"
          ]
        }
      ]
    },
    {
      "cell_type": "code",
      "source": [
        "PAST_RANKING = tuple[float, float, float]\n",
        "RANKING = tuple[float, float, float, PAST_RANKING]\n",
        "\n",
        "\n",
        "def get_ranking_by_regno(df: pd.DataFrame, minule_df: pd.DataFrame, reg_no: str) -> RANKING:\n",
        "  filtered_df = df[df['Reg. c.'] == reg_no]\n",
        "  minule_filtered_df = minule_df[minule_df['Reg. c.'] == reg_no]\n",
        "  if filtered_df.empty:\n",
        "    return (float('inf'), -1, -1, (float('inf'), float('inf'), float('inf')))\n",
        "  if minule_filtered_df.empty:\n",
        "    minule = filtered_df['Minule Ran'].iloc[0]\n",
        "    return (\n",
        "      filtered_df['Poradi'].iloc[0]\n",
        "      , filtered_df['Body'].iloc[0]\n",
        "      , filtered_df['Rank.c'].iloc[0]\n",
        "      , (\n",
        "          minule if minule > 0 else float('inf')\n",
        "          , float('inf')\n",
        "          , float('inf')\n",
        "      )\n",
        "    )\n",
        "  return (\n",
        "    filtered_df['Poradi'].iloc[0]\n",
        "    , filtered_df['Body'].iloc[0]\n",
        "    , filtered_df['Rank.c'].iloc[0]\n",
        "    , (\n",
        "        filtered_df['Minule Ran'].iloc[0]\n",
        "        , minule_filtered_df['Poradi'].iloc[0]\n",
        "        , minule_filtered_df['Minule Ran'].iloc[0]\n",
        "    )\n",
        "  )"
      ],
      "metadata": {
        "id": "MMYm_2N1ryFT"
      },
      "execution_count": 167,
      "outputs": []
    },
    {
      "cell_type": "code",
      "source": [
        "get_ranking_by_regno(ranking_dfs[\"M\"][0], ranking_dfs[\"M\"][1], \"MOV9500\")"
      ],
      "metadata": {
        "colab": {
          "base_uri": "https://localhost:8080/"
        },
        "id": "nHvFXhYqwYPH",
        "outputId": "a1811404-69ca-4e6c-a59b-3a41a6533c37"
      },
      "execution_count": 160,
      "outputs": [
        {
          "output_type": "execute_result",
          "data": {
            "text/plain": [
              "(1063, 3931, 472, (0, inf, inf))"
            ]
          },
          "metadata": {},
          "execution_count": 160
        }
      ]
    },
    {
      "cell_type": "code",
      "source": [
        "get_ranking_by_regno(ranking_dfs[\"M\"][0], ranking_dfs[\"M\"][1], \"AOP0201\")"
      ],
      "metadata": {
        "colab": {
          "base_uri": "https://localhost:8080/"
        },
        "id": "TquAvz-YDczs",
        "outputId": "171c2248-cc62-4e95-cf55-668b0bb91a09"
      },
      "execution_count": 162,
      "outputs": [
        {
          "output_type": "execute_result",
          "data": {
            "text/plain": [
              "(16, 73246, 8802, (52, 52, 94))"
            ]
          },
          "metadata": {},
          "execution_count": 162
        }
      ]
    },
    {
      "cell_type": "code",
      "source": [
        "def get_event_entries(event_id: int=8657):\n",
        "    url = \"https://oris.orientacnisporty.cz/API/\"\n",
        "    params = {\n",
        "      'format': 'json',\n",
        "      'method': 'getEventEntries',\n",
        "      'eventid': f\"{event_id}\"\n",
        "    }\n",
        "    response = requests.get(url, params=params)\n",
        "    response.raise_for_status()  # Check if the request was successful\n",
        "    return response.json()"
      ],
      "metadata": {
        "id": "g5iu-oXBgs-X"
      },
      "execution_count": 19,
      "outputs": []
    },
    {
      "cell_type": "code",
      "source": [
        "clubs = get_csos_club_list()\n",
        "# print(\"CSOS Club List:\")\n",
        "# print(clubs)"
      ],
      "metadata": {
        "id": "vp7HeI4Le74_"
      },
      "execution_count": 177,
      "outputs": []
    },
    {
      "cell_type": "code",
      "source": [
        "entries = get_event_entries(8657)\n",
        "# print(\"Event entries:\")\n",
        "# print(entries)"
      ],
      "metadata": {
        "id": "FpBSHLKph3zg"
      },
      "execution_count": 178,
      "outputs": []
    },
    {
      "cell_type": "code",
      "source": [
        "from dataclasses import dataclass\n",
        "\n",
        "@dataclass\n",
        "class Entry:\n",
        "  classR: RaceClass\n",
        "  name: str\n",
        "  regno: int\n",
        "  ranking: RANKING\n",
        "\n",
        "  @property\n",
        "  def ranked(self) -> float:\n",
        "    if self.ranking is None:\n",
        "      return None\n",
        "    return self.ranking[0]\n",
        "\n",
        "def divide_entries(entries: list[Entry]) -> dict[RaceClass, list[Entry]]:\n",
        "  ret = {race_class: [] for race_class in RaceClass}\n",
        "  for entry in entries:\n",
        "    ret[entry.classR].append(entry)\n",
        "  for cls, ls in ret.items():\n",
        "    ret[cls] = sorted(ls, key=lambda entry: entry.ranked)\n",
        "  return ret"
      ],
      "metadata": {
        "id": "Po1MDMsPibTs"
      },
      "execution_count": 174,
      "outputs": []
    },
    {
      "cell_type": "code",
      "source": [
        "entrs: list[Entry] = []\n",
        "for x in entries[\"Data\"]:\n",
        "  obj = entries[\"Data\"][x]\n",
        "  cls = get_gender_akademicky(obj[\"ClassDesc\"])\n",
        "  gender = class_2_gender(cls)\n",
        "  entrs.append(Entry(\n",
        "      classR=cls\n",
        "      , name=obj[\"Name\"]\n",
        "      , regno=obj[\"RegNo\"]\n",
        "      , ranking=get_ranking_by_regno(ranking_dfs[gender][0], ranking_dfs[gender][1], obj[\"RegNo\"])\n",
        "       if cls != RaceClass.OTHER else None\n",
        "  ))\n",
        "\n",
        "div_entrs = divide_entries(entrs)\n",
        "# _ = [print(len(x)) for x in div_entrs.values()]\n",
        "# div_entrs"
      ],
      "metadata": {
        "id": "T_p6-5fPswv6"
      },
      "execution_count": 175,
      "outputs": []
    },
    {
      "cell_type": "code",
      "source": [
        "print(\"RANKING z ORISU\")\n",
        "for r, ls in div_entrs.items():\n",
        "  print(r)\n",
        "  for x in ls:\n",
        "    print(f\"{x.name.ljust(20)} \\t{x.ranked}.\\t{x.ranking[3]}.\")"
      ],
      "metadata": {
        "colab": {
          "base_uri": "https://localhost:8080/"
        },
        "id": "YVkyuNK4w98q",
        "outputId": "ee03111b-8a1f-4229-ebaf-d7b270ede849"
      },
      "execution_count": 176,
      "outputs": [
        {
          "output_type": "stream",
          "name": "stdout",
          "text": [
            "RANKING z ORISU\n",
            "RaceClass.H\n",
            "Vandas Daniel        \t5.\t(7, 4, 4).\n",
            "Coufal Jáchym        \t8.\t(11, 12, 12).\n",
            "Janovský Tomáš       \t10.\t(14, 15, 15).\n",
            "Horvát Petr          \t11.\t(8, 8, 8).\n",
            "Metelka Ondřej       \t13.\t(10, 11, 11).\n",
            "Kostka Jiří          \t16.\t(52, 52, 94).\n",
            "Gajda Jan            \t17.\t(65, 23, 23).\n",
            "Adámek Filip         \t18.\t(19, 19, 19).\n",
            "Čech Vít             \t20.\t(23, 30, 36).\n",
            "Pompura Daniel       \t23.\t(21, 35, 35).\n",
            "Hájek Kryštof        \t25.\t(35, 16, 16).\n",
            "Škvor Ota            \t34.\t(22, 22, 21).\n",
            "Tokár Radim          \t62.\t(76, 86, 90).\n",
            "Panovec Kryštof      \t75.\t(102, 103, 103).\n",
            "Mareček Šimon        \t79.\t(63, 67, 66).\n",
            "Macek Ondřej         \t84.\t(77, 89, 88).\n",
            "Thoř Tomáš           \t107.\t(94, 96, 99).\n",
            "Pipek Ondřej         \t129.\t(113, 111, 110).\n",
            "Měšťan Ondřej        \t132.\t(131, 139, 158).\n",
            "Mareš Albert         \t133.\t(120, 110, 115).\n",
            "Mokrý Ondřej         \t135.\t(125, 128, 125).\n",
            "Čech Petr            \t136.\t(152, 159, 160).\n",
            "Pavlovec Dan         \t137.\t(126, 132, 131).\n",
            "Mielec Jaromír       \t138.\t(162, 153, 147).\n",
            "Světnický František  \t155.\t(157, 151, 162).\n",
            "Marek Vojtěch        \t163.\t(163, 161, 154).\n",
            "Čepička Ladislav     \t179.\t(203, 319, 317).\n",
            "Doušek Tomáš         \t230.\t(278, 246, 252).\n",
            "Nechanický Jan       \t256.\t(273, 307, 305).\n",
            "Hnízdil Matěj        \t288.\t(299, 284, 319).\n",
            "Vaněk Adam           \t320.\t(336, 438, 492).\n",
            "Vavřík Tomáš         \t327.\t(319, 309, 309).\n",
            "Jelínek Kryštof      \t575.\t(564, 496, 486).\n",
            "Heczko Stanislav     \t610.\t(638, 902, 893).\n",
            "Šabata Milan         \t617.\t(525, 522, 516).\n",
            "Kolský Pavel         \t704.\t(696, 562, 557).\n",
            "Hulha Lukáš          \t956.\t(953, 900, 1119).\n",
            "Dvořák Jakub         \t1063.\t(inf, inf, inf).\n",
            "Hlaváč Ondřej        \tinf.\t(inf, inf, inf).\n",
            "Haman Dalibor Tomáš  \tinf.\t(inf, inf, inf).\n",
            "RaceClass.D\n",
            "Pekařová Jana        \t4.\t(10, 7, 9).\n",
            "Matějková Barbora    \t6.\t(14, 17, 15).\n",
            "Semíková Lucie       \t7.\t(7, 10, 11).\n",
            "Chaloupská Barbora   \t10.\t(6, 6, 6).\n",
            "Kosová Tereza        \t12.\t(12, 12, 21).\n",
            "Smolková Barbora     \t22.\t(34, 42, 39).\n",
            "Dittrichová Michaela \t25.\t(26, 27, 26).\n",
            "Holečková Petra      \t31.\t(27, 29, 31).\n",
            "Nechanická Klára     \t33.\t(42, 46, 45).\n",
            "Semrádová Jana       \t38.\t(44, 49, 47).\n",
            "Krejčová Lucie       \t52.\t(49, 51, 61).\n",
            "Hájková Eliška       \t55.\t(46, 35, 38).\n",
            "Barnatová Klára      \t62.\t(75, 81, 77).\n",
            "Bídová Markéta       \t67.\t(86, 96, 97).\n",
            "Chrástová Tereza     \t142.\t(134, 135, 132).\n",
            "Kroniková Štěpánka   \t180.\t(158, 149, 140).\n",
            "Aschermannová Karolína \t203.\t(232, 268, 258).\n",
            "Jelínková Adéla      \t230.\t(219, 216, 211).\n",
            "Šneiderová Daniela   \t469.\t(473, 687, 647).\n",
            "RaceClass.H_OTHER\n",
            "Chupek Jakub         \t35.\t(30, 33, 33).\n",
            "Hledík Jakub         \t82.\t(100, 97, 109).\n",
            "Tomeš Jaroslav       \t258.\t(252, 252, 251).\n",
            "Janovský Tomáš       \t265.\t(244, 232, 231).\n",
            "Pecka Marek          \t269.\t(275, 270, 288).\n",
            "Pustai David         \t277.\t(281, 272, 268).\n",
            "Bradáč Jakub         \t304.\t(310, 317, 318).\n",
            "Pešík Michal         \t886.\t(817, 751, 726).\n",
            "Sedláček Jaroslav    \t1238.\t(1242, 1222, 1163).\n",
            "Jiroutek Jakub       \tinf.\t(inf, inf, inf).\n",
            "Hausenblas Šimon     \tinf.\t(inf, inf, inf).\n",
            "Vokuš Zdeněk         \tinf.\t(inf, inf, inf).\n",
            "Christl Ivan         \tinf.\t(inf, inf, inf).\n",
            "RaceClass.D_OTHER\n",
            "Kosová Denisa        \t1.\t(1, 1, 1).\n",
            "Šklíbová Michaela    \t133.\t(127, 134, 128).\n",
            "Hledíková Lucie      \t159.\t(152, 133, 143).\n",
            "Janovská Petra       \t240.\t(240, 235, 313).\n",
            "Voltrová Svatava     \t260.\t(246, 230, 222).\n",
            "Sedláčková Petra     \t391.\t(387, 391, 392).\n",
            "Marková Jana         \tinf.\t(inf, inf, inf).\n",
            "Vokušová Dana        \tinf.\t(inf, inf, inf).\n",
            "RaceClass.OTHER\n"
          ]
        }
      ]
    },
    {
      "cell_type": "code",
      "source": [],
      "metadata": {
        "id": "gGkXa2lF0oW7"
      },
      "execution_count": null,
      "outputs": []
    }
  ]
}